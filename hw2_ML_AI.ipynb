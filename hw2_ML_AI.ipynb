{
  "nbformat": 4,
  "nbformat_minor": 0,
  "metadata": {
    "colab": {
      "provenance": []
    },
    "kernelspec": {
      "name": "python3",
      "display_name": "Python 3"
    },
    "language_info": {
      "name": "python"
    }
  },
  "cells": [
    {
      "cell_type": "code",
      "execution_count": null,
      "metadata": {
        "colab": {
          "base_uri": "https://localhost:8080/"
        },
        "id": "kuraWHi5z7q5",
        "outputId": "533c6f15-586b-4afd-a259-d881f3607803"
      },
      "outputs": [
        {
          "output_type": "stream",
          "name": "stdout",
          "text": [
            "Requirement already satisfied: numpy in /usr/local/lib/python3.10/dist-packages (1.23.5)\n",
            "Requirement already satisfied: pandas in /usr/local/lib/python3.10/dist-packages (1.5.3)\n",
            "Requirement already satisfied: scikit-learn in /usr/local/lib/python3.10/dist-packages (1.2.2)\n",
            "Requirement already satisfied: seaborn in /usr/local/lib/python3.10/dist-packages (0.13.1)\n",
            "Requirement already satisfied: matplotlib in /usr/local/lib/python3.10/dist-packages (3.7.1)\n",
            "Requirement already satisfied: python-dateutil>=2.8.1 in /usr/local/lib/python3.10/dist-packages (from pandas) (2.8.2)\n",
            "Requirement already satisfied: pytz>=2020.1 in /usr/local/lib/python3.10/dist-packages (from pandas) (2023.3.post1)\n",
            "Requirement already satisfied: scipy>=1.3.2 in /usr/local/lib/python3.10/dist-packages (from scikit-learn) (1.11.4)\n",
            "Requirement already satisfied: joblib>=1.1.1 in /usr/local/lib/python3.10/dist-packages (from scikit-learn) (1.3.2)\n",
            "Requirement already satisfied: threadpoolctl>=2.0.0 in /usr/local/lib/python3.10/dist-packages (from scikit-learn) (3.2.0)\n",
            "Requirement already satisfied: contourpy>=1.0.1 in /usr/local/lib/python3.10/dist-packages (from matplotlib) (1.2.0)\n",
            "Requirement already satisfied: cycler>=0.10 in /usr/local/lib/python3.10/dist-packages (from matplotlib) (0.12.1)\n",
            "Requirement already satisfied: fonttools>=4.22.0 in /usr/local/lib/python3.10/dist-packages (from matplotlib) (4.47.2)\n",
            "Requirement already satisfied: kiwisolver>=1.0.1 in /usr/local/lib/python3.10/dist-packages (from matplotlib) (1.4.5)\n",
            "Requirement already satisfied: packaging>=20.0 in /usr/local/lib/python3.10/dist-packages (from matplotlib) (23.2)\n",
            "Requirement already satisfied: pillow>=6.2.0 in /usr/local/lib/python3.10/dist-packages (from matplotlib) (9.4.0)\n",
            "Requirement already satisfied: pyparsing>=2.3.1 in /usr/local/lib/python3.10/dist-packages (from matplotlib) (3.1.1)\n",
            "Requirement already satisfied: six>=1.5 in /usr/local/lib/python3.10/dist-packages (from python-dateutil>=2.8.1->pandas) (1.16.0)\n"
          ]
        }
      ],
      "source": [
        "!pip3 install numpy pandas scikit-learn seaborn matplotlib"
      ]
    },
    {
      "cell_type": "markdown",
      "source": [
        "Task 1 (30 points): Implement a Decision Tree Classifier for your classification problem. You\n",
        "may use a built-in package to implement your classifier. Try modifying one or more of the input\n",
        "parameters and describe what changes you notice in your results. Clearly describe how these\n",
        "factors are affecting your output."
      ],
      "metadata": {
        "id": "BtiEHdCs3Ziu"
      }
    },
    {
      "cell_type": "code",
      "source": [
        "import numpy as np\n",
        "import pandas as pd\n",
        "from sklearn.model_selection import train_test_split\n",
        "from sklearn.datasets import load_breast_cancer\n",
        "from sklearn.tree import DecisionTreeClassifier\n",
        "import matplotlib.pyplot as plt\n",
        "\n",
        "# Load the dataset\n",
        "data = load_breast_cancer()\n",
        "X = pd.DataFrame(data.data, columns=data.feature_names)\n",
        "y = pd.Series(data.target)\n",
        "\n",
        "# Split the dataset into training and test sets\n",
        "X_train, X_test, y_train, y_test = train_test_split(X, y, test_size=0.2, random_state=0)\n",
        "\n",
        "# Normalize the features\n",
        "X_train = (X_train - X_train.mean()) / X_train.std()\n",
        "X_test = (X_test - X_test.mean()) / X_test.std()\n",
        "\n",
        "# # Add intercept term\n",
        "# X_train['intercept'] = 1\n",
        "# X_test['intercept'] = 1\n",
        "\n",
        "X_train = X_train.values\n",
        "X_test = X_test.values\n",
        "y_train = y_train.values\n",
        "y_test = y_test.values\n",
        "\n",
        "tree = DecisionTreeClassifier()\n",
        "tree.fit(X_train, y_train)\n",
        "print(tree.score(X_test, y_test))\n",
        "\n",
        "scores = []\n",
        "for i in range(1, 6):\n",
        "  clf3 = DecisionTreeClassifier(max_depth=i)\n",
        "  clf3.fit(X_train, y_train)\n",
        "  scores.append(clf3.score(X_test, y_test))\n",
        "\n",
        "plt.figure()\n",
        "plt.plot(np.arange(1, 6), np.array(scores))\n",
        "plt.xlabel(\"max depth\")\n",
        "plt.ylabel(\"Accuracy\")\n",
        "plt.title(\"Max Depth VS Accuracy\")\n",
        "plt.show()\n",
        "\n",
        "scores = []\n",
        "names = ['gini', 'entropy', 'log_loss']\n",
        "for i in names:\n",
        "  clf2 = DecisionTreeClassifier(criterion=i)\n",
        "  clf2.fit(X_train, y_train)\n",
        "  scores.append(clf2.score(X_test, y_test))\n",
        "\n",
        "plt.figure()\n",
        "plt.plot(names, np.array(scores))\n",
        "plt.xticks(rotation=45)\n",
        "plt.xlabel(\"Criterion\")\n",
        "plt.ylabel(\"Accuracy\")\n",
        "plt.title(\"Criterion VS Accuracy\")\n",
        "plt.show()\n",
        "\n",
        "\n",
        "\n"
      ],
      "metadata": {
        "colab": {
          "base_uri": "https://localhost:8080/",
          "height": 980
        },
        "id": "kdia74ud1ksy",
        "outputId": "6be2117a-afd4-43e7-b080-74e7490e8eca"
      },
      "execution_count": 25,
      "outputs": [
        {
          "output_type": "stream",
          "name": "stdout",
          "text": [
            "0.9385964912280702\n"
          ]
        },
        {
          "output_type": "display_data",
          "data": {
            "text/plain": [
              "<Figure size 640x480 with 1 Axes>"
            ],
            "image/png": "[encoded data removed]"
          },
          "metadata": {}
        },
        {
          "output_type": "display_data",
          "data": {
            "text/plain": [
              "<Figure size 640x480 with 1 Axes>"
            ],
            "image/png": "[encoded data removed]"
          },
          "metadata": {}
        }
      ]
    },
    {
      "cell_type": "markdown",
      "source": [
        "I have tested on two parameters: max depth and criterion.\n",
        "\n",
        "For max depth, there is an accuracy increasing from max depth = 1 to max depth = 2. The accuracy remains the same for max_depth = 2 and max_depth = 3, and then the accuracy decreases while the max_depth increases.\n",
        "\n",
        "For criterion, it seems like gini performs the best, while entropy and log_loss are slighly worse than gini, and log_loss is slightly worse than entropy."
      ],
      "metadata": {
        "id": "XDO6rjee8qmz"
      }
    },
    {
      "cell_type": "markdown",
      "source": [
        "Task 2 (30 points): From the Bagging and Boosting ensemble methods pick any one algorithm\n",
        "from each category. Implement both the algorithms using the same data. Use k-fold cross\n",
        "validation to find the effectiveness of both the models. Comment on the difference/similarity of\n",
        "the results."
      ],
      "metadata": {
        "id": "ZgcTAOKP3cK5"
      }
    },
    {
      "cell_type": "code",
      "source": [
        "from numpy import mean\n",
        "from numpy import std\n",
        "\n",
        "from sklearn.ensemble import BaggingClassifier\n",
        "from sklearn.model_selection import cross_val_score\n",
        "from sklearn.model_selection import RepeatedStratifiedKFold\n",
        "\n",
        "import xgboost as xgb\n",
        "\n",
        "# Modified from the given notebook in class\n",
        "\n",
        "# define the model\n",
        "bag = BaggingClassifier(n_estimators=10)\n",
        "# evaluate the model\n",
        "cv = RepeatedStratifiedKFold(n_splits=10, n_repeats=3, random_state=1)\n",
        "n_scores = cross_val_score(bag, X, y, scoring='accuracy', cv=cv, n_jobs=-1, error_score='raise')\n",
        "# report performance\n",
        "print('Bagging Accuracy: %.3f (%.3f)' % (mean(n_scores), std(n_scores)))\n",
        "\n",
        "\n",
        "xgb = xgb.XGBClassifier(objective=\"binary:logistic\", random_state=42)\n",
        "\n",
        "cv = RepeatedStratifiedKFold(n_splits=10, n_repeats=3, random_state=1)\n",
        "n_scores = cross_val_score(xgb, X, y, scoring='accuracy', cv=cv, n_jobs=-1, error_score='raise')\n",
        "\n",
        "print('XGB Accuracy: %.3f (%.3f)' % (mean(n_scores), std(n_scores)))\n",
        "\n",
        "\n",
        "\n"
      ],
      "metadata": {
        "colab": {
          "base_uri": "https://localhost:8080/"
        },
        "id": "2nB8TldK7VTX",
        "outputId": "22e0dc45-948a-4c58-df09-4e02e98d624b"
      },
      "execution_count": 4,
      "outputs": [
        {
          "output_type": "stream",
          "name": "stdout",
          "text": [
            "Bagging Accuracy: 0.950 (0.025)\n",
            "XGB Accuracy: 0.967 (0.024)\n"
          ]
        }
      ]
    },
    {
      "cell_type": "markdown",
      "source": [
        "Given the k fold implemented for both bagging and XG boosting, they both perform pretty well. The standard deviation is small, which means both method are stable. XG boosting performs slightly better than bagging, no matter on the mean accuracy or the standard deviation. I think this shows that XG boosting performs better on bagging, at least on this dataset."
      ],
      "metadata": {
        "id": "yGibGnU69ODQ"
      }
    },
    {
      "cell_type": "markdown",
      "source": [
        "Task 3 (40 points): Compare the effectiveness of the three models implemented above. Clearly\n",
        "describe the metric you are using for comparison. Describe (with examples) Why is this\n",
        "metric(metrics) suited/appropriate for the problem at hand? How would a choice of a different\n",
        "metric impact your results? Can you demonstrate that?"
      ],
      "metadata": {
        "id": "VMjmOjbu3ejR"
      }
    },
    {
      "cell_type": "code",
      "source": [
        "from sklearn.metrics import precision_score, recall_score\n",
        "\n",
        "X_train, X_test, y_train, y_test = train_test_split(X, y, test_size=0.2, random_state=41)\n",
        "\n",
        "# the default traditional tree classifier\n",
        "tree.fit(X_train, y_train)\n",
        "tree_pred = tree.predict(X_test)\n",
        "tree.score(X_test, y_test)\n",
        "\n",
        "# bagging classifier\n",
        "bag.fit(X_train, y_train)\n",
        "bag_pred = bag.predict(X_test)\n",
        "bag.score(X_test, y_test)\n",
        "\n",
        "# XG boosting\n",
        "xgb.fit(X_train, y_train)\n",
        "xgb_pred = xgb.predict(X_test)\n",
        "xgb.score(X_test, y_test)\n",
        "\n",
        "print(\"============Accuracy Metric==============\")\n",
        "print(\"Accuracy of traditional tree classifier: \", tree.score(X_test, y_test))\n",
        "print(\"Accuracy of bagging classifier: \", bag.score(X_test, y_test))\n",
        "print(\"Accuracy of XG boosting classifier: \", xgb.score(X_test, y_test))\n",
        "\n",
        "print(\"============Precision Metric==============\")\n",
        "print(\"Precision of traditional tree classifier: \", precision_score(tree_pred, y_test))\n",
        "print(\"Precision of bagging classifier: \",  precision_score(bag_pred, y_test))\n",
        "print(\"Preicison of XG boosting classifier: \",  precision_score(xgb_pred, y_test))\n",
        "\n",
        "print(\"============Recall Metric==============\")\n",
        "print(\"Recall of traditional tree classifier: \", recall_score(tree_pred, y_test))\n",
        "print(\"Recall of bagging classifier: \",  recall_score(bag_pred, y_test))\n",
        "print(\"Recall of XG boosting classifier: \",  precision_score(xgb_pred, y_test))"
      ],
      "metadata": {
        "id": "BxaENTPJCs4m",
        "colab": {
          "base_uri": "https://localhost:8080/"
        },
        "outputId": "407c7f35-7afa-4305-d5e5-a16f7c250acc"
      },
      "execution_count": 22,
      "outputs": [
        {
          "output_type": "stream",
          "name": "stdout",
          "text": [
            "============Accuracy Metric==============\n",
            "Accuracy of traditional tree classifier:  0.9473684210526315\n",
            "Accuracy of bagging classifier:  0.9649122807017544\n",
            "Accuracy of XG boosting classifier:  0.9912280701754386\n",
            "============Precision Metric==============\n",
            "Precision of traditional tree classifier:  0.9324324324324325\n",
            "Precision of bagging classifier:  0.9459459459459459\n",
            "Preicison of XG boosting classifier:  0.9864864864864865\n",
            "============Recall Metric==============\n",
            "Recall of traditional tree classifier:  0.9857142857142858\n",
            "Recall of bagging classifier:  1.0\n",
            "Recall of XG boosting classifier:  0.9864864864864865\n"
          ]
        }
      ]
    },
    {
      "cell_type": "markdown",
      "source": [
        "According to the performance above, all three classifiers are effective. For accuracy, precision and recall, they all maintain above 90%, which is essentially good performance.\n",
        "\n",
        "Here, I am using three metrics: accuracy, precision and recall. Why these three metrics?\n",
        "\n",
        "Accuracy measures the proportion of all predictions (both positive and negative) that the model got right.\n",
        "\n",
        "Precision measures the proportion of positive identifications that were actually correct.\n",
        "\n",
        "Recall measures the proportion of actual positives that were correctly identified.\n",
        "\n",
        "These metrics are suited for comparing the models because they each offer insight into different aspects of the model's predictive capabilities:\n",
        "\n",
        "Accuracy is useful for overall performance but doesn't give insight into the balance between false positives and false negatives.\n",
        "Precision is important when the cost of a false positive is high.\n",
        "Recall is crucial when it's important not to miss any positive cases.\n",
        "\n",
        "In the above case, for each metric:\n",
        "### Accuracy\n",
        "XG boosting has the best accuracy, follows by bagging, and finally traditional tree classifier.\n",
        "### Precision:\n",
        "same with accuracy, XG boosting has the best precision, follows by bagging and finally traditional tree classifier.\n",
        "### Recall\n",
        "bagging has the best accuracy, follows by XG boosting, and then closely catched by traditional tree classifier.\n",
        "\n",
        "Here, if we focus on precision, where we want to make sure the positive identifications that are actually correct, then XG boosting is the best. However, if we focus on recall, where we do not want to miss a positive case, bagging classifier is the one performs better at recall, and we want to use bagging classifier instead of XG boosting."
      ],
      "metadata": {
        "id": "2OA67NaICnCg"
      }
    },
    {
      "cell_type": "markdown",
      "source": [
        "The following task is for Graduate level only (6000 level): This task is more open ended and\n",
        "emphasizes the research aspect of implementing a model. You will be exploring the impact of\n",
        "hyperparameter tuning which we haven’t discussed in detail so far.\n",
        "\n",
        "\n",
        "**Task (50 points):** For the same classification problem solved above, implement the XGBoost\n",
        "algorithm. If you picked XGBoost as one of the boosting algorithms in task 2, you may use the\n",
        "same implementation. Picking the best hyper-parameters is an important task for any Machine\n",
        "Learning implementation. In this task create an experiment that explores the impact of any 3\n",
        "input parameters on your result. Describe the parameters in detail. Also describe how you\n",
        "compare the results.\n",
        "An experiment can be defined as a systematic way of picking parameter values. This could be\n",
        "something that you come up with yourself or you may refer to the exiting literature on design\n",
        "of experiments for hyperparameter tuning. See:\n",
        "https://www.jeremyjordan.me/hyperparameter-tuning/\n",
        "This task will require you to perform some research into this open-source library yourself. A\n",
        "good place to start is here: https://xgboost.readthedocs.io/en/latest/parameter.html#general-parameters"
      ],
      "metadata": {
        "id": "sgQ0q-HL3hal"
      }
    },
    {
      "cell_type": "code",
      "source": [
        "import xgboost as xgb\n",
        "from sklearn.model_selection import GridSearchCV\n",
        "from sklearn.metrics import accuracy_score\n",
        "\n",
        "X_train, X_test, y_train, y_test = train_test_split(X, y, test_size=0.2, random_state=42)\n",
        "\n",
        "# Define the parameter grid\n",
        "param_grid = {\n",
        "    'max_depth': [2, 3, 4, 5, 6],\n",
        "    'n_estimators': [100, 200, 300, 400, 500],\n",
        "    'learning_rate': [0.001, 0.01, 0.05, 0.1, 0.2]\n",
        "}\n",
        "\n",
        "xgb = xgb.XGBClassifier(objective=\"binary:logistic\", random_state=42)\n",
        "# GridSearchCV\n",
        "grid_search = GridSearchCV(estimator=xgb, param_grid=param_grid, cv=5, scoring='accuracy', n_jobs=-1)\n",
        "grid_search.fit(X_train, y_train)\n",
        "\n",
        "# Best parameters and best score\n",
        "best_params = grid_search.best_params_\n",
        "best_score = grid_search.best_score_\n",
        "\n",
        "# Evaluate on the test set\n",
        "best_model = grid_search.best_estimator_\n",
        "y_pred = best_model.predict(X_test)\n",
        "test_accuracy = accuracy_score(y_test, y_pred)\n",
        "\n",
        "print(\"best parameters: \", best_params),\n",
        "print(\"best accuracy: \", best_score)\n",
        "print(\"test accuracy: \", test_accuracy)\n"
      ],
      "metadata": {
        "id": "MH6f3Ds6CxI-",
        "colab": {
          "base_uri": "https://localhost:8080/"
        },
        "outputId": "f561154e-446e-481e-eabc-39a453426e54"
      },
      "execution_count": 28,
      "outputs": [
        {
          "output_type": "stream",
          "name": "stdout",
          "text": [
            "best parameters:  {'learning_rate': 0.1, 'max_depth': 2, 'n_estimators': 500}\n",
            "best accuracy:  0.9736263736263737\n",
            "test accuracy:  0.9736842105263158\n"
          ]
        }
      ]
    },
    {
      "cell_type": "markdown",
      "source": [
        "For the hyper parameter search, I am choosing three important hyper parameter:\n",
        "\n",
        "max_depth controls the maximum depth of a tree. Deeper trees can model more complex relationships by creating more specific rules, but they also risk overfitting.\n",
        "\n",
        "n_estimators is the number of trees in the forest. More trees can lead to a more robust model by reducing variance. However, adding too many trees can slow down the training process and, beyond a certain point, will not improve the model significantly.\n",
        "\n",
        "learning_rate  scales the contribution of each tree. If it's too high, the model can converge too quickly to a suboptimal solution, while too low a value can lead to a long training process that might not converge in a reasonable time frame.\n",
        "\n",
        "There three hyper parameters are extremely important in terms of XG boosting classifier. For each parameter, I decide to explore 5 values of each param, resulting into a 125 combination of hyper params, which I think is comprehensive enough to find a set of parameters that is close to the optimal solution.\n",
        "\n",
        "For max_depth, because by question 1, the performance degrades on the traditional tree classifier after max_depth >= 3, so I choose 2 to 6 as a reasonable span.\n",
        "\n",
        "For n_estimator, I guess 300 is a good value for such hyperparameter, so I decide to explore more around this value.\n",
        "\n",
        "For learning rate, I don't have a good sense, so I include both small value and large value of learning rate.\n",
        "\n",
        "It turns out my initial guess is kind of off, where max_depth = 2, learning_rate = 0.2 and n_estimators = 500 has the best performance, where the test accuracy is pretty high as 97.36%."
      ],
      "metadata": {
        "id": "Clh951mfHs7A"
      }
    },
    {
      "cell_type": "code",
      "source": [],
      "metadata": {
        "id": "WL9IvCTOFk3P"
      },
      "execution_count": null,
      "outputs": []
    }
  ]
}